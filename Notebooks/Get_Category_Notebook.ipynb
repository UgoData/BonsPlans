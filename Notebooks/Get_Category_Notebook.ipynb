{
 "cells": [
  {
   "cell_type": "markdown",
   "metadata": {},
   "source": [
    "# Import Libs"
   ]
  },
  {
   "cell_type": "code",
   "execution_count": 9,
   "metadata": {
    "collapsed": true
   },
   "outputs": [],
   "source": [
    "# -*- coding: utf-8 -*-\n",
    "import pandas as pd, numpy as np\n",
    "import pickle as pkl\n",
    "from sklearn.pipeline import FeatureUnion, Pipeline\n",
    "from sklearn.feature_extraction.text import TfidfVectorizer\n",
    "from sklearn.preprocessing import MinMaxScaler\n",
    "from sklearn.multiclass import OneVsRestClassifier\n",
    "from sklearn.naive_bayes import MultinomialNB\n",
    "from scipy.sparse import hstack\n",
    "from classCustom import ItemSelector,Scalers\n",
    "import re\n",
    "from nltk.corpus import stopwords\n",
    "from nltk.stem.snowball import FrenchStemmer\n",
    "import unicodedata\n",
    "from sklearn.preprocessing import MultiLabelBinarizer"
   ]
  },
  {
   "cell_type": "markdown",
   "metadata": {},
   "source": [
    "# Load CSV"
   ]
  },
  {
   "cell_type": "code",
   "execution_count": 2,
   "metadata": {
    "collapsed": false
   },
   "outputs": [
    {
     "data": {
      "text/html": [
       "<div>\n",
       "<table border=\"1\" class=\"dataframe\">\n",
       "  <thead>\n",
       "    <tr style=\"text-align: right;\">\n",
       "      <th></th>\n",
       "      <th>nomProduit</th>\n",
       "      <th>descriptionProduit</th>\n",
       "      <th>prix</th>\n",
       "      <th>nomMarchand</th>\n",
       "      <th>PuericultureEnfants</th>\n",
       "      <th>EquipementsMaisonHighTech</th>\n",
       "      <th>SportsLoisirsCulture</th>\n",
       "      <th>BricolageDecorationJardinerieAnimalerie</th>\n",
       "      <th>ModeAccessoires</th>\n",
       "      <th>AutoMoto</th>\n",
       "      <th>...</th>\n",
       "      <th>Boulangerie</th>\n",
       "      <th>CharcuterieTraiteur</th>\n",
       "      <th>Cremerie</th>\n",
       "      <th>EpicerieSalee</th>\n",
       "      <th>EpicerieSucree</th>\n",
       "      <th>FruitsFrais</th>\n",
       "      <th>LegumesFrais</th>\n",
       "      <th>ProduitsMer</th>\n",
       "      <th>ProduitsDietetiques</th>\n",
       "      <th>Surgeles</th>\n",
       "    </tr>\n",
       "  </thead>\n",
       "  <tbody>\n",
       "    <tr>\n",
       "      <th>0</th>\n",
       "      <td>Support Voiture Universel Kenu Airframe pour S...</td>\n",
       "      <td>NaN</td>\n",
       "      <td>24.99</td>\n",
       "      <td>Fnac</td>\n",
       "      <td>0</td>\n",
       "      <td>0</td>\n",
       "      <td>0</td>\n",
       "      <td>1</td>\n",
       "      <td>0</td>\n",
       "      <td>1</td>\n",
       "      <td>...</td>\n",
       "      <td>0</td>\n",
       "      <td>0</td>\n",
       "      <td>0</td>\n",
       "      <td>0</td>\n",
       "      <td>0</td>\n",
       "      <td>0</td>\n",
       "      <td>0</td>\n",
       "      <td>0</td>\n",
       "      <td>0</td>\n",
       "      <td>0</td>\n",
       "    </tr>\n",
       "    <tr>\n",
       "      <th>1</th>\n",
       "      <td>Voiture U-Command Flash Flash Mc Queen Cars</td>\n",
       "      <td>Age minimum 3 ans</td>\n",
       "      <td>87.85</td>\n",
       "      <td>Fnac</td>\n",
       "      <td>1</td>\n",
       "      <td>0</td>\n",
       "      <td>0</td>\n",
       "      <td>0</td>\n",
       "      <td>0</td>\n",
       "      <td>0</td>\n",
       "      <td>...</td>\n",
       "      <td>0</td>\n",
       "      <td>0</td>\n",
       "      <td>0</td>\n",
       "      <td>0</td>\n",
       "      <td>0</td>\n",
       "      <td>0</td>\n",
       "      <td>0</td>\n",
       "      <td>0</td>\n",
       "      <td>0</td>\n",
       "      <td>0</td>\n",
       "    </tr>\n",
       "    <tr>\n",
       "      <th>2</th>\n",
       "      <td>Bateau avec seau, pelle et râteau</td>\n",
       "      <td>Le lot</td>\n",
       "      <td>8.99</td>\n",
       "      <td>MONOP</td>\n",
       "      <td>1</td>\n",
       "      <td>0</td>\n",
       "      <td>0</td>\n",
       "      <td>0</td>\n",
       "      <td>0</td>\n",
       "      <td>0</td>\n",
       "      <td>...</td>\n",
       "      <td>0</td>\n",
       "      <td>0</td>\n",
       "      <td>0</td>\n",
       "      <td>0</td>\n",
       "      <td>0</td>\n",
       "      <td>0</td>\n",
       "      <td>0</td>\n",
       "      <td>0</td>\n",
       "      <td>0</td>\n",
       "      <td>0</td>\n",
       "    </tr>\n",
       "    <tr>\n",
       "      <th>3</th>\n",
       "      <td>Bateau Ocean Dream</td>\n",
       "      <td>L'unité</td>\n",
       "      <td>6.99</td>\n",
       "      <td>MONOP</td>\n",
       "      <td>1</td>\n",
       "      <td>0</td>\n",
       "      <td>0</td>\n",
       "      <td>0</td>\n",
       "      <td>0</td>\n",
       "      <td>0</td>\n",
       "      <td>...</td>\n",
       "      <td>0</td>\n",
       "      <td>0</td>\n",
       "      <td>0</td>\n",
       "      <td>0</td>\n",
       "      <td>0</td>\n",
       "      <td>0</td>\n",
       "      <td>0</td>\n",
       "      <td>0</td>\n",
       "      <td>0</td>\n",
       "      <td>0</td>\n",
       "    </tr>\n",
       "    <tr>\n",
       "      <th>4</th>\n",
       "      <td>Boisson gazeuse aux extraits végétaux</td>\n",
       "      <td>La bouteille de 1l</td>\n",
       "      <td>1.39</td>\n",
       "      <td>MONOP</td>\n",
       "      <td>0</td>\n",
       "      <td>0</td>\n",
       "      <td>0</td>\n",
       "      <td>0</td>\n",
       "      <td>0</td>\n",
       "      <td>0</td>\n",
       "      <td>...</td>\n",
       "      <td>0</td>\n",
       "      <td>0</td>\n",
       "      <td>0</td>\n",
       "      <td>0</td>\n",
       "      <td>0</td>\n",
       "      <td>0</td>\n",
       "      <td>0</td>\n",
       "      <td>0</td>\n",
       "      <td>0</td>\n",
       "      <td>0</td>\n",
       "    </tr>\n",
       "  </tbody>\n",
       "</table>\n",
       "<p>5 rows × 28 columns</p>\n",
       "</div>"
      ],
      "text/plain": [
       "                                          nomProduit  descriptionProduit  \\\n",
       "0  Support Voiture Universel Kenu Airframe pour S...                 NaN   \n",
       "1        Voiture U-Command Flash Flash Mc Queen Cars   Age minimum 3 ans   \n",
       "2                  Bateau avec seau, pelle et râteau              Le lot   \n",
       "3                                 Bateau Ocean Dream             L'unité   \n",
       "4              Boisson gazeuse aux extraits végétaux  La bouteille de 1l   \n",
       "\n",
       "    prix nomMarchand  PuericultureEnfants  EquipementsMaisonHighTech  \\\n",
       "0  24.99        Fnac                    0                          0   \n",
       "1  87.85        Fnac                    1                          0   \n",
       "2   8.99       MONOP                    1                          0   \n",
       "3   6.99       MONOP                    1                          0   \n",
       "4   1.39       MONOP                    0                          0   \n",
       "\n",
       "   SportsLoisirsCulture  BricolageDecorationJardinerieAnimalerie  \\\n",
       "0                     0                                        1   \n",
       "1                     0                                        0   \n",
       "2                     0                                        0   \n",
       "3                     0                                        0   \n",
       "4                     0                                        0   \n",
       "\n",
       "   ModeAccessoires  AutoMoto    ...     Boulangerie  CharcuterieTraiteur  \\\n",
       "0                0         1    ...               0                    0   \n",
       "1                0         0    ...               0                    0   \n",
       "2                0         0    ...               0                    0   \n",
       "3                0         0    ...               0                    0   \n",
       "4                0         0    ...               0                    0   \n",
       "\n",
       "   Cremerie  EpicerieSalee  EpicerieSucree  FruitsFrais  LegumesFrais  \\\n",
       "0         0              0               0            0             0   \n",
       "1         0              0               0            0             0   \n",
       "2         0              0               0            0             0   \n",
       "3         0              0               0            0             0   \n",
       "4         0              0               0            0             0   \n",
       "\n",
       "   ProduitsMer  ProduitsDietetiques  Surgeles  \n",
       "0            0                    0         0  \n",
       "1            0                    0         0  \n",
       "2            0                    0         0  \n",
       "3            0                    0         0  \n",
       "4            0                    0         0  \n",
       "\n",
       "[5 rows x 28 columns]"
      ]
     },
     "execution_count": 2,
     "metadata": {},
     "output_type": "execute_result"
    }
   ],
   "source": [
    "# Recipe inputs\n",
    "base_apprentissage_course_readyML_df = pd.read_csv('Data/base_apprentissage_course_readyML.csv')\n",
    "base_apprentissage_course_readyML_df.head()"
   ]
  },
  {
   "cell_type": "markdown",
   "metadata": {},
   "source": [
    "# Load Dictionnaryies"
   ]
  },
  {
   "cell_type": "code",
   "execution_count": 3,
   "metadata": {
    "collapsed": true
   },
   "outputs": [],
   "source": [
    "# Liste des categories\n",
    "list_cat={'PuericultureEnfants':1001,'EquipementsMaisonHighTech':1002,'SportsLoisirsCulture':1003,'BricolageDecorationJardinerieAnimalerie':1004,\n",
    "          'ModeAccessoires':1005,'AutoMoto':1006,'BeauteSanteBienEtre':1007,'HotelRestaurantCafes':1008,'BanquesAssurances':1009,'VoyagesTransports':1010,\n",
    "          'Services':1011,'Bebe':2000,'Boissons':2001,'Boucherie':2002,'Boulangerie':2003,'CharcuterieTraiteur':2004,'Cremerie':2005,'EpicerieSalee':2006,\n",
    "          'EpicerieSucree':2007,'FruitsFrais':2008,'LegumesFrais':2009,'ProduitsMer':2010,'ProduitsDietetiques':2011,'Surgeles':2012\n",
    "         }\n",
    "\n",
    "list_col=['PuericultureEnfants','EquipementsMaisonHighTech',\n",
    "          'SportsLoisirsCulture','BricolageDecorationJardinerieAnimalerie',\n",
    "          'ModeAccessoires','AutoMoto','BeauteSanteBienEtre','HotelRestaurantCafes',\n",
    "          'BanquesAssurances','VoyagesTransports','Services','Bebe','Boissons',\n",
    "          'Boucherie','Boulangerie','CharcuterieTraiteur','Cremerie',\n",
    "          'EpicerieSalee','EpicerieSucree','FruitsFrais','LegumesFrais','ProduitsMer','ProduitsDietetiques','Surgeles'\n",
    "         ]\n",
    "list_stop_word_french=['alors','au','aucuns','aussi','autre','avant','avec','avoir','bon','car','ce','cela','ces','ceux','chaque',\n",
    "                       'ci','comme','comment','dans','des','du','dedans','dehors','depuis','devrait','doit','donc','dos','début',\n",
    "                       'elle','elles','en','encore','essai','est','et','eu','fait','faites','fois','font','hors','ici','il','ils',\n",
    "                       'je','juste','la','le','les','leur','là','ma','maintenant','mais','mes','mine','moins','mon','mot','même',\n",
    "                       'ni','nommés','notre','nous','ou','où','par','parce','pas','peut','peu','plupart','pour','pourquoi','quand',\n",
    "                       'que','quel','quelle','quelles','quels','qui','sa','sans','ses','seulement','si','sien','son','sont','sous',\n",
    "                       'soyez','sujet','sur','ta','tandis','tellement','tels','tes','ton','tous','tout','trop','très','tu','voient',\n",
    "                       'vont','votre','vous','vu','ça','étaient','état','étions','été','être']"
   ]
  },
  {
   "cell_type": "markdown",
   "metadata": {},
   "source": [
    "# Data manipulation"
   ]
  },
  {
   "cell_type": "code",
   "execution_count": 4,
   "metadata": {
    "collapsed": true
   },
   "outputs": [],
   "source": [
    "def creationMultiCol(row):\n",
    "    res=[]\n",
    "    for col in list_col:\n",
    "        if row[col]==1:\n",
    "            res.append(list_cat[col])\n",
    "    return res\n",
    "\n",
    "def removeCols(df):\n",
    "    result=df.loc[:,['nomProduit','descriptionProduit','prix','nomMarchand','multiClass']]\n",
    "    return result\n",
    "\n",
    "def normaliz(row):\n",
    "    \"\"\" Normalize Text \"\"\"\n",
    "    # to lower case\n",
    "    str1=row.lower()\n",
    "    #print 'low_case : ', str1\n",
    "\n",
    "    # Suppress number\n",
    "    regex = re.compile('[^\\D]')\n",
    "    str1=regex.sub('', str1)\n",
    "    #print 'only_letters : ', str1\n",
    "    \n",
    "    # Suppress punctuation\n",
    "    regex = re.compile('[^a-z 0-9ÀÁÂÃÄÅàáâãäåÒÓÔÕÖØòóôõöøÈÉÊËèéêëÇçÌÍÎÏìíîïÙÚÛÜùúûüÿÑñ²°Ø×ßŠ]')\n",
    "    try :\n",
    "        str1=regex.sub('', str1)\n",
    "    except UnicodeDecodeError:\n",
    "        str1\n",
    "    #print 'no_ponctuation : ', str1\n",
    "\n",
    "    # Suppress stop words\n",
    "    french_stopwords_ini=stopwords.words('french')\n",
    "    french_stopwords_ini.extend(list_stop_word_french)\n",
    "    french_stopwords = set(french_stopwords_ini)\n",
    "    str1 = [token for token in str1.split(' ') if token.lower() not in french_stopwords]\n",
    "    #print 'no_stop_words : ', str1\n",
    "\n",
    "    # Suppress accent\n",
    "    str1 = [unicodedata.normalize('NFD', unicode(word,'utf-8')).encode('ascii', 'ignore') for word in str1]    \n",
    "    #print 'no_accent : ', str1\n",
    "\n",
    "    # Stemming of words\n",
    "    stemmer = FrenchStemmer()\n",
    "    str1=[stemmer.stem(word) for word in str1]\n",
    "    #print 'stemming : ', str1\n",
    "\n",
    "    # Merging words\n",
    "    str1=' '.join(str1)\n",
    "    #print 'merge_list : ',str1\n",
    "    \n",
    "    return str1\n",
    "\n",
    "#### Shaping data ####\n",
    "\n",
    "def fromDFToInput(df):\n",
    "    df.fillna('', inplace=True)\n",
    "    \n",
    "    df.loc[:,'nomProduit']=df.loc[:,'nomProduit'].apply(lambda x:normaliz(x))\n",
    "    df.loc[:,'descriptionProduit']=df.loc[:,'descriptionProduit'].apply(lambda x:normaliz(x))\n",
    "    \n",
    "    df.loc[:,'NomDescr']=df.loc[:,'nomProduit']+' '+df.loc[:,'descriptionProduit']\n",
    "\n",
    "    return df"
   ]
  },
  {
   "cell_type": "markdown",
   "metadata": {},
   "source": [
    "# Pipeline creation"
   ]
  },
  {
   "cell_type": "code",
   "execution_count": 5,
   "metadata": {
    "collapsed": true
   },
   "outputs": [],
   "source": [
    "def pred(df):\n",
    "    pipeline = Pipeline([\n",
    "    # Use FeatureUnion to combine the features from subject and body\n",
    "    ('union', FeatureUnion(\n",
    "        transformer_list=[\n",
    "\n",
    "            # Pipeline for tf-idf the word data\n",
    "            ('nom', Pipeline([\n",
    "                ('selector', ItemSelector(key='nomProduit')),\n",
    "                ('tfidf', TfidfVectorizer(min_df=.001,max_df=0.8,ngram_range=(1,2)))\n",
    "            ])),\n",
    "            # Pipeline for tf-idf the word data\n",
    "            ('descr', Pipeline([\n",
    "                ('selector', ItemSelector(key='descriptionProduit')),\n",
    "                ('tfidf', TfidfVectorizer(min_df=.001,max_df=0.8,ngram_range=(1,1)))\n",
    "            ])),\n",
    "                    \n",
    "            # Pipeline for tf-idf the word data\n",
    "            ('descrNom', Pipeline([\n",
    "                ('selector', ItemSelector(key='NomDescr')),\n",
    "                ('tfidf', TfidfVectorizer(min_df=.001,max_df=0.8,ngram_range=(1,2)))\n",
    "            ])),\n",
    "\n",
    "            # Pipeline for log standard price\n",
    "            ('prix', Pipeline([\n",
    "                ('selector', ItemSelector(key='prix')),\n",
    "                ('std', MinMaxScaler()),\n",
    "                ('scale',Scalers())\n",
    "            ]))    \n",
    "\n",
    "        ],\n",
    "                \n",
    "    )),\n",
    "\n",
    "    # Use a SVC classifier on the combined features\n",
    "    ('rf', OneVsRestClassifier(MultinomialNB(),n_jobs=-1))\n",
    "    ])\n",
    "    mlb = MultiLabelBinarizer()\n",
    "    pipeline.fit(df, mlb.fit_transform(df['multiClass'].values))\n",
    "    return pipeline"
   ]
  },
  {
   "cell_type": "markdown",
   "metadata": {},
   "source": [
    "# Saving Pickle"
   ]
  },
  {
   "cell_type": "code",
   "execution_count": 6,
   "metadata": {
    "collapsed": true
   },
   "outputs": [],
   "source": [
    "def save(model, name):\n",
    "    pkl.dump(model, open(\"Models/multiNB.p\", \"wb\" ) )\n",
    "    print name+\" saved\""
   ]
  },
  {
   "cell_type": "code",
   "execution_count": 7,
   "metadata": {
    "collapsed": false
   },
   "outputs": [],
   "source": [
    "df=base_apprentissage_course_readyML_df\n",
    "df['multiClass']=df.apply(creationMultiCol, axis=1)\n",
    "result=removeCols(df)\n",
    "res = fromDFToInput(result)"
   ]
  },
  {
   "cell_type": "code",
   "execution_count": 8,
   "metadata": {
    "collapsed": false
   },
   "outputs": [
    {
     "name": "stderr",
     "output_type": "stream",
     "text": [
      "/Library/Python/2.7/site-packages/sklearn/preprocessing/data.py:321: DeprecationWarning: Passing 1d arrays as data is deprecated in 0.17 and will raise ValueError in 0.19. Reshape your data either using X.reshape(-1, 1) if your data has a single feature or X.reshape(1, -1) if it contains a single sample.\n",
      "  warnings.warn(DEPRECATION_MSG_1D, DeprecationWarning)\n",
      "/Library/Python/2.7/site-packages/sklearn/preprocessing/data.py:356: DeprecationWarning: Passing 1d arrays as data is deprecated in 0.17 and will raise ValueError in 0.19. Reshape your data either using X.reshape(-1, 1) if your data has a single feature or X.reshape(1, -1) if it contains a single sample.\n",
      "  warnings.warn(DEPRECATION_MSG_1D, DeprecationWarning)\n"
     ]
    },
    {
     "name": "stdout",
     "output_type": "stream",
     "text": [
      "multiNB saved\n"
     ]
    }
   ],
   "source": [
    "# Modelling \n",
    "model=pred(res)\n",
    "# Saving model\n",
    "save(model, \"multiNB\")"
   ]
  },
  {
   "cell_type": "code",
   "execution_count": null,
   "metadata": {
    "collapsed": true
   },
   "outputs": [],
   "source": []
  }
 ],
 "metadata": {
  "kernelspec": {
   "display_name": "Python 2",
   "language": "python",
   "name": "python2"
  },
  "language_info": {
   "codemirror_mode": {
    "name": "ipython",
    "version": 2
   },
   "file_extension": ".py",
   "mimetype": "text/x-python",
   "name": "python",
   "nbconvert_exporter": "python",
   "pygments_lexer": "ipython2",
   "version": "2.7.10"
  }
 },
 "nbformat": 4,
 "nbformat_minor": 2
}
