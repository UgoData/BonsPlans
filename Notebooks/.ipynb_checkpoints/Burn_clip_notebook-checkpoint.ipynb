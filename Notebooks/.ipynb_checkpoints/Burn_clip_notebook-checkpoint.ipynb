{
 "cells": [
  {
   "cell_type": "markdown",
   "metadata": {},
   "source": [
    "# Import Libs"
   ]
  },
  {
   "cell_type": "code",
   "execution_count": 2,
   "metadata": {
    "collapsed": true
   },
   "outputs": [],
   "source": [
    "import pandas as pd\n",
    "import mysql.connector\n",
    "import MySQLdb\n",
    "import pandas.io.sql as psql\n",
    "import json"
   ]
  },
  {
   "cell_type": "markdown",
   "metadata": {},
   "source": [
    "# Get data send by the application"
   ]
  },
  {
   "cell_type": "code",
   "execution_count": 3,
   "metadata": {
    "collapsed": true
   },
   "outputs": [],
   "source": [
    "#############################################################################################\n",
    "#################### Recuperation des donnees envoyees par lapplication ######################\n",
    "##############################################################################################\n",
    "\n",
    "def mapFeatureDF(features_df):\n",
    "    \"\"\" map features into pandas dictionnary\"\"\"\n",
    "    return {'idUser':features_df['features']['idUser'], 'idBonPlan':features_df['features']['idBonPlan'], 'action':features_df['features']['action']}"
   ]
  },
  {
   "cell_type": "markdown",
   "metadata": {},
   "source": [
    "# Save data into db"
   ]
  },
  {
   "cell_type": "code",
   "execution_count": 4,
   "metadata": {
    "collapsed": true
   },
   "outputs": [],
   "source": [
    "#############################################################################################\n",
    "################################ Sauvegarde des donnees en base ##############################\n",
    "##############################################################################################\n",
    "\n",
    "## Connecteur mysql update\n",
    "\n",
    "def saveProductInfos(dict_info):\n",
    "\n",
    "    # Connecting to DB\n",
    "    conn= mysql.connector.connect(host='localhost',database='dataiku',user='dkuadmin',password='Dataiku!')\n",
    "\n",
    "    # Remove user infos\n",
    "    cursor=conn.cursor()\n",
    "    # Check if product exists into both databases\n",
    "    where_wtr_bp=\"where userId=\\'\"+dict_info['idUser']+\"\\' and id=\\'\"+dict_info['idBonPlan']+\"\\'\"\n",
    "    where_wtr_lc=\"where userId=\\'\"+dict_info['idUser']+\"\\' and idProd=\\'\"+dict_info['idBonPlan']+\"\\'\"\n",
    "    order= \"order by date desc limit 1\"\n",
    "\n",
    "    req_bp=\"select * from userbonsplans \"+where_wtr_bp\n",
    "    print req_bp\n",
    "    req_lc=\"select * from userlistecourse_prepared_2 \"+where_wtr_lc\n",
    "    print req_lc\n",
    "\n",
    "    print pd.read_sql(req_bp, conn)\n",
    "    if len(pd.read_sql(req_bp, conn))>0:\n",
    "        if dict_info['action']=='clip':\n",
    "            up_bp = \"UPDATE userbonsplans SET clipped=True \"+where_wtr_bp+order\n",
    "            cursor.execute(up_bp)\n",
    "            print 'CLIPPED BONS PLANS : ', where_wtr_bp\n",
    "        if dict_info['action']=='burn':\n",
    "            up_bp = \"UPDATE userbonsplans SET burned=True \"+where_wtr_bp+order\n",
    "            cursor.execute(up_bp)\n",
    "            print 'BURNED BONS PLANS : ', where_wtr_bp\n",
    "        if dict_info['action']=='unclip':\n",
    "            up_bp = \"UPDATE userbonsplans SET clipped=False \"+where_wtr_bp\n",
    "            cursor.execute(up_bp)\n",
    "            print 'UNCLIPPED BONS PLANS : ', where_wtr_bp\n",
    "    conn.commit()\n",
    "\n",
    "    print pd.read_sql(req_lc, conn)\n",
    "    if len(pd.read_sql(req_lc, conn))>0:\n",
    "        if dict_info['action']=='clip':\n",
    "            up_lc = \"UPDATE userlistecourse_prepared_2 SET clipped=True \"+where_wtr_lc+order\n",
    "            cursor.execute(up_lc)\n",
    "            print 'CLIPPED LISTE COURSE : ', where_wtr_lc\n",
    "        if dict_info['action']=='burn':\n",
    "            up_lc = \"UPDATE userlistecourse_prepared_2 SET burned=True \"+where_wtr_lc+order\n",
    "            cursor.execute(up_lc)\n",
    "            print 'BURNED LISTE COURSE : ', where_wtr_lc\n",
    "        if dict_info['action']=='unclip':\n",
    "            up_lc = \"UPDATE userlistecourse_prepared_2 SET clipped=False \"+where_wtr_lc\n",
    "            cursor.execute(up_lc)\n",
    "            print 'UNCLIPPED LISTE COURSE : ', where_wtr_lc\n",
    "    conn.commit()"
   ]
  },
  {
   "cell_type": "markdown",
   "metadata": {},
   "source": [
    "# Predict"
   ]
  },
  {
   "cell_type": "code",
   "execution_count": 5,
   "metadata": {
    "collapsed": true
   },
   "outputs": [],
   "source": [
    "def predict(features_df):\n",
    "\n",
    "    # Get api inputs\n",
    "    dict_info=mapFeatureDF(features_df)\n",
    "    # Save the data\n",
    "    saveProductInfos(dict_info)\n",
    "\n",
    "    # predictions, one per record (features_df row)\n",
    "    predictions = pd.Series([json.dumps([\"good\"],indent=3)])\n",
    "\n",
    "    return (predictions)"
   ]
  },
  {
   "cell_type": "code",
   "execution_count": 6,
   "metadata": {
    "collapsed": false
   },
   "outputs": [
    {
     "name": "stdout",
     "output_type": "stream",
     "text": [
      "select * from userbonsplans where userId='idUser' and id='aHR0cHM6Ly93d3cubW9ub3ByaXguZnIvY29jYS1jb2xhLXplcm8tYm9pdGUtMzNjbHgxMC1mcmlnby1wYWNrLWNvY2EtY29sYS0xNjI2MjI2LXA~bGF0LWxuZz00OC44ODA2NjE3LDIuMzUxOTk1NQ=='\n",
      "select * from userlistecourse_prepared_2 where userId='idUser' and idProd='aHR0cHM6Ly93d3cubW9ub3ByaXguZnIvY29jYS1jb2xhLXplcm8tYm9pdGUtMzNjbHgxMC1mcmlnby1wYWNrLWNvY2EtY29sYS0xNjI2MjI2LXA~bGF0LWxuZz00OC44ODA2NjE3LDIuMzUxOTk1NQ=='\n",
      "Empty DataFrame\n",
      "Columns: [conditions, dateDebut, dateFin, description, distance, id, libelle, magId, offreCat, offreDesc, offreId, offreLib, offreMag, offreMarq, offrePrix, prix, source, prix_unitOff, magZipcode, magDepcom, magLatLong, magRue, magCat, magHor, magMarch, magNom, magRmw, prix_old, analytics_category, travelTime, travelTimeRaw, unite, quantite, quantite_unite, price_unit, quantile_prixquantite, reduc_type, bio, pctReduc, mntReduc, analytics_userCategory, analytics_reduc, freq, form_user_dist, hist_user_dist, hist_user_mat_dist, apriori_rating, dist_rating, clust_rating, order, col_affich, userId, date, clipped, burned, unitOff, dist_svd]\n",
      "Index: []\n",
      "\n",
      "[0 rows x 57 columns]\n",
      "Empty DataFrame\n",
      "Columns: [requete, prixMin, prixMax, nomProduit, descriptionProduit, prix, idProd, lib, reduc, magId, urlImage, idBonPlan, distance, position, magZipcode, magDepcom, magLatLong, magRue, magMarch, magNom, magRmw, universConso_1010, universConso_1011, universConso_2012, universConso_1009, universConso_1008, universConso_1005, universConso_1004, universConso_2011, universConso_2010, universConso_2002, universConso_2003, universConso_2000, universConso_2001, universConso_2006, universConso_2007, universConso_2004, universConso_2005, universConso_1007, universConso_1006, universConso_2008, universConso_2009, universConso_1003, universConso_1002, universConso_1001, universConso_1000, bioSens_1010, bioSens_1011, bioSens_2012, bioSens_1009, bioSens_1008, bioSens_1005, bioSens_1004, bioSens_2011, bioSens_2010, bioSens_2002, bioSens_2003, bioSens_2000, bioSens_2001, bioSens_2006, bioSens_2007, bioSens_2004, bioSens_2005, bioSens_1007, bioSens_1006, bioSens_2008, bioSens_2009, bioSens_1003, bioSens_1002, bioSens_1001, bioSens_1000, prixSens_1010_highPrice, prixSens_1010_lowPrice, prixSens_1011_highPrice, prixSens_1011_lowPrice, prixSens_2012_highPrice, prixSens_2012_lowPrice, prixSens_1009_highPrice, prixSens_1009_lowPrice, prixSens_1008_highPrice, prixSens_1008_lowPrice, prixSens_1005_highPrice, prixSens_1005_lowPrice, prixSens_1004_highPrice, prixSens_1004_lowPrice, prixSens_2011_highPrice, prixSens_2011_lowPrice, prixSens_2010_highPrice, prixSens_2010_lowPrice, prixSens_2002_highPrice, prixSens_2002_lowPrice, prixSens_2003_highPrice, prixSens_2003_lowPrice, prixSens_2000_highPrice, prixSens_2000_lowPrice, prixSens_2001_highPrice, prixSens_2001_lowPrice, prixSens_2006_highPrice, prixSens_2006_lowPrice, prixSens_2007_highPrice, ...]\n",
      "Index: []\n",
      "\n",
      "[0 rows x 295 columns]\n"
     ]
    },
    {
     "data": {
      "text/plain": [
       "0    [\\n   \"good\"\\n]\n",
       "dtype: object"
      ]
     },
     "execution_count": 6,
     "metadata": {},
     "output_type": "execute_result"
    }
   ],
   "source": [
    "features_df = json.loads(open('../inputs_bouchons/clip_burn.json').read())\n",
    "predict(features_df)"
   ]
  },
  {
   "cell_type": "code",
   "execution_count": null,
   "metadata": {
    "collapsed": true
   },
   "outputs": [],
   "source": []
  }
 ],
 "metadata": {
  "kernelspec": {
   "display_name": "Python 2",
   "language": "python",
   "name": "python2"
  },
  "language_info": {
   "codemirror_mode": {
    "name": "ipython",
    "version": 2
   },
   "file_extension": ".py",
   "mimetype": "text/x-python",
   "name": "python",
   "nbconvert_exporter": "python",
   "pygments_lexer": "ipython2",
   "version": "2.7.10"
  }
 },
 "nbformat": 4,
 "nbformat_minor": 2
}
